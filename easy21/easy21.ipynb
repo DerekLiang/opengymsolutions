{
 "cells": [
  {
   "cell_type": "code",
   "execution_count": 1,
   "metadata": {},
   "outputs": [],
   "source": [
    "from mpl_toolkits.mplot3d import Axes3D\n",
    "import matplotlib.pyplot as plt\n",
    "from matplotlib import cm\n",
    "from matplotlib.ticker import LinearLocator, FormatStrFormatter\n",
    "import numpy as np\n",
    "\n"
   ]
  },
  {
   "cell_type": "code",
   "execution_count": 2,
   "metadata": {},
   "outputs": [
    {
     "name": "stderr",
     "output_type": "stream",
     "text": [
      "C:\\src\\opengymsolutions\\easy21\\games.py:87: RuntimeWarning: invalid value encountered in true_divide\n",
      "  q = [ (values*actionCount[dealer, player, x]/actionCount[dealer, player, x].sum()).sum() for x in range(2) ]\n"
     ]
    },
    {
     "name": "stdout",
     "output_type": "stream",
     "text": [
      "       0        1        2        3        4        5        6        7        8        9       10       11       12       13       14       15       16       17       18       19       20 \n",
      " 0    0.279    0.323    0.299    0.288    0.248    0.310    0.324    0.327    0.278    0.273    0.185    0.059    0.227    0.160    0.000   -0.167   -0.048   -0.462    0.294   -0.455   -0.143 \n",
      " 1    0.225    0.119    0.204    0.205    0.224    0.243    0.192    0.194    0.231    0.201   -0.105    0.421    0.000   -0.130    0.111    0.125    0.077    0.364    0.400    0.250   -0.333 \n",
      " 2    0.173    0.220    0.194    0.206    0.193    0.249    0.235    0.168    0.141    0.221   -0.000   -0.000   -0.059   -0.348    0.176   -0.130    0.143    0.118    0.375    0.571    0.143 \n",
      " 3    0.138    0.094    0.169    0.210    0.135    0.096    0.131   -0.126    0.148    0.166   -0.061   -0.019   -0.034    0.037    0.031   -0.429    0.019    0.300    0.286    0.353    0.364 \n",
      " 4    0.135    0.100    0.222    0.154    0.113    0.102    0.016    0.089   -0.066    0.002    0.149    0.049    0.263   -0.040    0.164   -0.151   -0.014    0.170    0.586    0.550   -0.143 \n",
      " 5    0.088   -0.028    0.065    0.107    0.117    0.056    0.093    0.050    0.105    0.028   -0.069   -0.040   -0.037    0.167   -0.133   -0.316   -0.118    0.067    0.000    0.579   -0.143 \n",
      " 6   -0.209   -0.068   -0.063   -0.128   -0.101   -0.166   -0.003    0.029   -0.080   -0.062   -0.031    0.006   -0.075    0.048   -0.240   -0.103    0.159    0.260    0.348    0.451    0.333 \n",
      " 7   -0.074   -0.125   -0.146   -0.237   -0.071   -0.126   -0.147   -0.117   -0.127   -0.045   -0.000   -0.092   -0.000   -0.176   -0.241   -0.061   -0.000    0.162    0.262    0.521    0.464 \n",
      " 8   -0.345   -0.247   -0.137   -0.179   -0.227   -0.174   -0.160   -0.120   -0.117   -0.050   -0.024   -0.053   -0.154   -0.222   -0.332   -0.171   -0.118    0.268    0.421    0.704    0.592 \n",
      " 9   -0.219   -0.321   -0.322   -0.263   -0.263   -0.286   -0.116   -0.128   -0.099   -0.050   -0.024   -0.065   -0.149   -0.228   -0.374   -0.364   -0.392    0.104    0.401    0.638    0.709 \n",
      "       0        1        2        3        4        5        6        7        8        9       10       11       12       13       14       15       16       17       18       19       20 \n",
      " 0    1.000    1.000    1.000    1.000    1.000    1.000    1.000    1.000    1.000    1.000    1.000    1.000    1.000    1.000    1.000    1.000    1.000    1.000    1.000    1.000    1.000 \n",
      " 1    1.000    1.000    1.000    1.000    1.000    1.000    1.000    1.000    1.000    1.000    0.000    1.000    0.000    0.000    1.000    1.000    1.000    1.000    1.000    0.000    1.000 \n",
      " 2    1.000    1.000    1.000    1.000    1.000    1.000    1.000    1.000    1.000    1.000    0.000    0.000    0.000    0.000    1.000    1.000    1.000    1.000    1.000    1.000    1.000 \n",
      " 3    1.000    1.000    1.000    1.000    1.000    1.000    1.000    0.000    1.000    1.000    0.000    1.000    0.000    1.000    1.000    0.000    1.000    1.000    1.000    1.000    1.000 \n",
      " 4    1.000    1.000    1.000    1.000    1.000    1.000    1.000    1.000    0.000    0.000    1.000    0.000    1.000    1.000    1.000    1.000    1.000    1.000    1.000    1.000    1.000 \n",
      " 5    1.000    1.000    1.000    1.000    1.000    1.000    1.000    1.000    1.000    1.000    0.000    0.000    0.000    1.000    1.000    0.000    1.000    1.000    1.000    1.000    1.000 \n",
      " 6    1.000    1.000    1.000    1.000    1.000    0.000    1.000    1.000    0.000    0.000    0.000    1.000    0.000    1.000    0.000    1.000    1.000    1.000    1.000    1.000    1.000 \n",
      " 7    1.000    1.000    1.000    0.000    1.000    1.000    1.000    0.000    1.000    0.000    0.000    0.000    1.000    1.000    1.000    1.000    1.000    1.000    1.000    1.000    1.000 \n",
      " 8    0.000    1.000    1.000    1.000    1.000    1.000    0.000    0.000    0.000    0.000    0.000    0.000    0.000    0.000    1.000    1.000    1.000    1.000    1.000    1.000    1.000 \n",
      " 9    1.000    0.000    0.000    0.000    1.000    1.000    0.000    0.000    0.000    0.000    0.000    0.000    0.000    0.000    0.000    1.000    0.000    1.000    1.000    1.000    1.000 \n"
     ]
    },
    {
     "name": "stderr",
     "output_type": "stream",
     "text": [
      "C:\\src\\opengymsolutions\\easy21\\games.py:112: RuntimeWarning: invalid value encountered in true_divide\n",
      "  action = np.argmax([ (values*actionCount[dealer, player, x]/actionCount[dealer, player, x].sum()).sum() for x in range(2) ])\n"
     ]
    }
   ],
   "source": [
    "%run games.py"
   ]
  },
  {
   "cell_type": "code",
   "execution_count": 3,
   "metadata": {},
   "outputs": [],
   "source": [
    "X = np.arange(22)\n",
    "Y = np.arange(22)\n",
    "X, Y = np.meshgrid(X, Y)"
   ]
  },
  {
   "cell_type": "code",
   "execution_count": 4,
   "metadata": {},
   "outputs": [],
   "source": [
    "import plotly as py\n",
    "import plotly.graph_objs as go\n",
    "\n",
    "py.tools.set_credentials_file(username='derekliang',api_key='jXLjngOBcUWcOnupUgia')"
   ]
  },
  {
   "cell_type": "code",
   "execution_count": 7,
   "metadata": {},
   "outputs": [],
   "source": [
    "surface = go.Surface(x=X, y=Y, z=values)"
   ]
  },
  {
   "cell_type": "code",
   "execution_count": 8,
   "metadata": {},
   "outputs": [
    {
     "name": "stdout",
     "output_type": "stream",
     "text": [
      "High five! You successfully sent some data to your account on plotly. View your plot in your browser at https://plot.ly/~derekliang/0 or inside your plot.ly account where it is named 'jupyter-parametric_plot'\n"
     ]
    },
    {
     "data": {
      "text/html": [
       "<iframe id=\"igraph\" scrolling=\"no\" style=\"border:none;\" seamless=\"seamless\" src=\"https://plot.ly/~derekliang/0.embed\" height=\"525px\" width=\"100%\"></iframe>"
      ],
      "text/plain": [
       "<plotly.tools.PlotlyDisplay object>"
      ]
     },
     "execution_count": 8,
     "metadata": {},
     "output_type": "execute_result"
    }
   ],
   "source": [
    "data = [surface]\n",
    "\n",
    "layout = go.Layout(\n",
    "    title='Parametric Plot',\n",
    "    scene=dict(\n",
    "        xaxis=dict(\n",
    "            gridcolor='rgb(255, 255, 255)',\n",
    "            zerolinecolor='rgb(255, 255, 255)',\n",
    "            showbackground=True,\n",
    "            backgroundcolor='rgb(230, 230,230)'\n",
    "        ),\n",
    "        yaxis=dict(\n",
    "            gridcolor='rgb(255, 255, 255)',\n",
    "            zerolinecolor='rgb(255, 255, 255)',\n",
    "            showbackground=True,\n",
    "            backgroundcolor='rgb(230, 230,230)'\n",
    "        ),\n",
    "        zaxis=dict(\n",
    "            gridcolor='rgb(255, 255, 255)',\n",
    "            zerolinecolor='rgb(255, 255, 255)',\n",
    "            showbackground=True,\n",
    "            backgroundcolor='rgb(230, 230,230)'\n",
    "        )\n",
    "    )\n",
    ")\n",
    "\n",
    "fig = go.Figure(data=data, layout=layout)\n",
    "py.plotly.iplot(fig, filename='jupyter-parametric_plot')"
   ]
  },
  {
   "cell_type": "code",
   "execution_count": null,
   "metadata": {},
   "outputs": [],
   "source": []
  },
  {
   "cell_type": "code",
   "execution_count": null,
   "metadata": {},
   "outputs": [],
   "source": []
  }
 ],
 "metadata": {
  "kernelspec": {
   "display_name": "Python 3",
   "language": "python",
   "name": "python3"
  },
  "language_info": {
   "codemirror_mode": {
    "name": "ipython",
    "version": 3
   },
   "file_extension": ".py",
   "mimetype": "text/x-python",
   "name": "python",
   "nbconvert_exporter": "python",
   "pygments_lexer": "ipython3",
   "version": "3.6.4"
  }
 },
 "nbformat": 4,
 "nbformat_minor": 2
}

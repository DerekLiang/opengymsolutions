{
 "cells": [
  {
   "cell_type": "code",
   "execution_count": 13,
   "metadata": {},
   "outputs": [],
   "source": [
    "from mpl_toolkits.mplot3d import Axes3D\n",
    "import matplotlib.pyplot as plt\n",
    "from matplotlib import cm\n",
    "from matplotlib.ticker import LinearLocator, FormatStrFormatter\n",
    "import numpy as np\n",
    "\n"
   ]
  },
  {
   "cell_type": "code",
   "execution_count": 45,
   "metadata": {},
   "outputs": [
    {
     "name": "stderr",
     "output_type": "stream",
     "text": [
      "C:\\src\\opengymsolutions\\easy21\\games.py:99: RuntimeWarning:\n",
      "\n",
      "invalid value encountered in true_divide\n",
      "\n"
     ]
    },
    {
     "name": "stdout",
     "output_type": "stream",
     "text": [
      "       0        1        2        3        4        5        6        7        8        9       10       11       12       13       14       15       16       17       18       19       20       21 \n",
      " 0    0.000    0.000    0.000    0.000    0.000    0.000    0.000    0.000    0.000    0.000    0.000    0.000    0.000    0.000    0.000    0.000    0.000    0.000    0.000    0.000    0.000    0.000 \n",
      " 1    0.000   -0.473   -0.484   -0.488   -0.477   -0.474   -0.488   -0.486   -0.470   -0.499   -0.478   -0.363   -0.411   -0.441   -0.414   -0.560   -0.548   -0.485   -0.148    0.161    0.146   -0.425 \n",
      " 2    0.000   -0.476   -0.471   -0.471   -0.464   -0.487   -0.482   -0.483   -0.471   -0.481   -0.510   -0.345   -0.378   -0.450   -0.429   -0.363   -0.519   -0.447   -0.000   -0.041    0.115   -0.105 \n",
      " 3    0.000   -0.474   -0.496   -0.474   -0.473   -0.488   -0.463   -0.478   -0.473   -0.472   -0.469   -0.208   -0.440   -0.362   -0.344   -0.427   -0.513   -0.430   -0.189   -0.182   -0.310    0.180 \n",
      " 4    0.000   -0.460   -0.474   -0.471   -0.463   -0.480   -0.461   -0.458   -0.477   -0.459   -0.466   -0.344   -0.312   -0.327   -0.427   -0.393   -0.482   -0.467   -0.208   -0.493   -0.000    0.047 \n",
      " 5    0.000   -0.429   -0.429   -0.436   -0.430   -0.443   -0.441   -0.441   -0.437   -0.419   -0.430   -0.236   -0.410   -0.401   -0.479   -0.469   -0.431   -0.432   -0.198   -0.014   -0.077   -0.081 \n",
      " 6    0.000   -0.391   -0.422   -0.378   -0.423   -0.398   -0.390   -0.402   -0.388   -0.398   -0.400   -0.327   -0.373   -0.198   -0.317   -0.394   -0.274   -0.418   -0.250    0.017    0.059   -0.278 \n",
      " 7    0.000   -0.420   -0.421   -0.408   -0.417   -0.427   -0.431   -0.447   -0.432   -0.414   -0.421   -0.268   -0.224   -0.339   -0.398   -0.333   -0.414   -0.365   -0.189   -0.123   -0.062    0.125 \n",
      " 8    0.000   -0.503   -0.454   -0.469   -0.496   -0.472   -0.462   -0.490   -0.461   -0.492   -0.463   -0.278   -0.455   -0.394   -0.471   -0.479   -0.448   -0.404   -0.112    0.016   -0.220    0.047 \n",
      " 9    0.000   -0.523   -0.525   -0.529   -0.530   -0.509   -0.520   -0.515   -0.517   -0.536   -0.511   -0.339   -0.375   -0.457   -0.415   -0.458   -0.500   -0.327   -0.284   -0.148   -0.273    0.026 \n",
      "10    0.000   -0.558   -0.548   -0.533   -0.559   -0.555   -0.576   -0.543   -0.552   -0.545   -0.568   -0.445   -0.440   -0.386   -0.574   -0.444   -0.583   -0.382   -0.160   -0.081    0.016    0.024 \n",
      "11    0.000    0.000    0.000    0.000    0.000    0.000    0.000    0.000    0.000    0.000    0.000    0.000    0.000    0.000    0.000    0.000    0.000    0.000    0.000    0.000    0.000    0.000 \n",
      "12    0.000    0.000    0.000    0.000    0.000    0.000    0.000    0.000    0.000    0.000    0.000    0.000    0.000    0.000    0.000    0.000    0.000    0.000    0.000    0.000    0.000    0.000 \n",
      "13    0.000    0.000    0.000    0.000    0.000    0.000    0.000    0.000    0.000    0.000    0.000    0.000    0.000    0.000    0.000    0.000    0.000    0.000    0.000    0.000    0.000    0.000 \n",
      "14    0.000    0.000    0.000    0.000    0.000    0.000    0.000    0.000    0.000    0.000    0.000    0.000    0.000    0.000    0.000    0.000    0.000    0.000    0.000    0.000    0.000    0.000 \n",
      "15    0.000    0.000    0.000    0.000    0.000    0.000    0.000    0.000    0.000    0.000    0.000    0.000    0.000    0.000    0.000    0.000    0.000    0.000    0.000    0.000    0.000    0.000 \n",
      "16    0.000    0.000    0.000    0.000    0.000    0.000    0.000    0.000    0.000    0.000    0.000    0.000    0.000    0.000    0.000    0.000    0.000    0.000    0.000    0.000    0.000    0.000 \n",
      "17    0.000    0.000    0.000    0.000    0.000    0.000    0.000    0.000    0.000    0.000    0.000    0.000    0.000    0.000    0.000    0.000    0.000    0.000    0.000    0.000    0.000    0.000 \n",
      "18    0.000    0.000    0.000    0.000    0.000    0.000    0.000    0.000    0.000    0.000    0.000    0.000    0.000    0.000    0.000    0.000    0.000    0.000    0.000    0.000    0.000    0.000 \n",
      "19    0.000    0.000    0.000    0.000    0.000    0.000    0.000    0.000    0.000    0.000    0.000    0.000    0.000    0.000    0.000    0.000    0.000    0.000    0.000    0.000    0.000    0.000 \n",
      "20    0.000    0.000    0.000    0.000    0.000    0.000    0.000    0.000    0.000    0.000    0.000    0.000    0.000    0.000    0.000    0.000    0.000    0.000    0.000    0.000    0.000    0.000 \n",
      "21    0.000    0.000    0.000    0.000    0.000    0.000    0.000    0.000    0.000    0.000    0.000    0.000    0.000    0.000    0.000    0.000    0.000    0.000    0.000    0.000    0.000    0.000 \n"
     ]
    }
   ],
   "source": [
    "%run games.py"
   ]
  },
  {
   "cell_type": "code",
   "execution_count": 51,
   "metadata": {},
   "outputs": [],
   "source": [
    "X = np.arange(22)\n",
    "Y = np.arange(22)\n",
    "X, Y = np.meshgrid(X, Y)"
   ]
  },
  {
   "cell_type": "code",
   "execution_count": 52,
   "metadata": {},
   "outputs": [],
   "source": [
    "import plotly as py\n",
    "import plotly.graph_objs as go\n",
    "\n",
    "py.tools.set_credentials_file(username='derekliang',api_key='jXLjngOBcUWcOnupUglia')"
   ]
  },
  {
   "cell_type": "code",
   "execution_count": 55,
   "metadata": {},
   "outputs": [],
   "source": [
    "surface = go.Surface(x=X, y=Y, z=Z)"
   ]
  },
  {
   "cell_type": "code",
   "execution_count": 56,
   "metadata": {},
   "outputs": [
    {
     "name": "stdout",
     "output_type": "stream",
     "text": [
      "High five! You successfully sent some data to your account on plotly. View your plot in your browser at https://plot.ly/~derekliang/0 or inside your plot.ly account where it is named 'jupyter-parametric_plot'\n"
     ]
    },
    {
     "data": {
      "text/html": [
       "<iframe id=\"igraph\" scrolling=\"no\" style=\"border:none;\" seamless=\"seamless\" src=\"https://plot.ly/~derekliang/0.embed\" height=\"525px\" width=\"100%\"></iframe>"
      ],
      "text/plain": [
       "<plotly.tools.PlotlyDisplay object>"
      ]
     },
     "execution_count": 56,
     "metadata": {},
     "output_type": "execute_result"
    }
   ],
   "source": [
    "data = [surface]\n",
    "\n",
    "layout = go.Layout(\n",
    "    title='Parametric Plot',\n",
    "    scene=dict(\n",
    "        xaxis=dict(\n",
    "            gridcolor='rgb(255, 255, 255)',\n",
    "            zerolinecolor='rgb(255, 255, 255)',\n",
    "            showbackground=True,\n",
    "            backgroundcolor='rgb(230, 230,230)'\n",
    "        ),\n",
    "        yaxis=dict(\n",
    "            gridcolor='rgb(255, 255, 255)',\n",
    "            zerolinecolor='rgb(255, 255, 255)',\n",
    "            showbackground=True,\n",
    "            backgroundcolor='rgb(230, 230,230)'\n",
    "        ),\n",
    "        zaxis=dict(\n",
    "            gridcolor='rgb(255, 255, 255)',\n",
    "            zerolinecolor='rgb(255, 255, 255)',\n",
    "            showbackground=True,\n",
    "            backgroundcolor='rgb(230, 230,230)'\n",
    "        )\n",
    "    )\n",
    ")\n",
    "\n",
    "fig = go.Figure(data=data, layout=layout)\n",
    "py.plotly.iplot(fig, filename='jupyter-parametric_plot')"
   ]
  },
  {
   "cell_type": "code",
   "execution_count": null,
   "metadata": {},
   "outputs": [],
   "source": []
  },
  {
   "cell_type": "code",
   "execution_count": null,
   "metadata": {},
   "outputs": [],
   "source": []
  }
 ],
 "metadata": {
  "kernelspec": {
   "display_name": "Python 3",
   "language": "python",
   "name": "python3"
  },
  "language_info": {
   "codemirror_mode": {
    "name": "ipython",
    "version": 3
   },
   "file_extension": ".py",
   "mimetype": "text/x-python",
   "name": "python",
   "nbconvert_exporter": "python",
   "pygments_lexer": "ipython3",
   "version": "3.6.4"
  }
 },
 "nbformat": 4,
 "nbformat_minor": 2
}
